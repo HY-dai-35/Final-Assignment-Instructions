{
 "cells": [
  {
   "cell_type": "markdown",
   "id": "a28d1cec-78a6-4566-bc77-4b9bd0c849c2",
   "metadata": {},
   "source": [
    "# Data Science Tools and Ecosystem"
   ]
  },
  {
   "cell_type": "markdown",
   "id": "4a667003-1dc1-4c0c-a9f9-1a2150fb6f07",
   "metadata": {},
   "source": [
    "In this notebook, Data Science Tools and Ecosystem are summarized."
   ]
  },
  {
   "cell_type": "markdown",
   "id": "0a28b075-2f73-43e1-af66-5f65c2dfcf16",
   "metadata": {},
   "source": [
    "**Objectives:**\n",
    "- Create a markdown cell to list data science languages\n",
    "- Create a markdown cell to list data science libraries\n",
    "- Create a markdown cell with a table of Data Science tools\n",
    "- Create a markdown cell introducing arithmetic expression examples\n",
    "- Create a code cell to multiply and add numbers"
   ]
  },
  {
   "cell_type": "markdown",
   "id": "e307b9db-888f-472c-922a-a896f617a094",
   "metadata": {},
   "source": [
    "Some of the popular languages that Data Scientists use are:\n",
    "1. python\n",
    "2. R\n",
    "3. SQL"
   ]
  },
  {
   "cell_type": "markdown",
   "id": "72d6dd40-39d5-43bd-bc29-37f0b1048129",
   "metadata": {},
   "source": [
    "Some of the commonly used libraries used by Data Scientists include:\n",
    "1. NumPy\n",
    "2. Pandas\n",
    "3. Matplotlib"
   ]
  },
  {
   "cell_type": "markdown",
   "id": "884a4940-0d72-4b87-82c7-338e7f4e037e",
   "metadata": {},
   "source": [
    "| Data Science Tools |\n",
    "| -------------|\n",
    "| Jupyter Notebook| \n",
    "| JupyterLab  | \n",
    "| Rstudio | "
   ]
  },
  {
   "cell_type": "markdown",
   "id": "a22d171b-c7eb-4e57-b32e-d95f79e99f1a",
   "metadata": {},
   "source": [
    "#   Below are a few examples of evaluating arithmetic expressions in Python"
   ]
  },
  {
   "cell_type": "code",
   "execution_count": 1,
   "id": "4c6b4542-f751-4d97-9907-be046008e8de",
   "metadata": {},
   "outputs": [
    {
     "data": {
      "text/plain": [
       "17"
      ]
     },
     "execution_count": 1,
     "metadata": {},
     "output_type": "execute_result"
    }
   ],
   "source": [
    "## This a simple arithmetic expression to mutiply then add integers\n",
    "(3*4)+5"
   ]
  },
  {
   "cell_type": "code",
   "execution_count": 4,
   "id": "5ec6e721-84fc-4f65-87e1-17f206b3aead",
   "metadata": {},
   "outputs": [
    {
     "name": "stdout",
     "output_type": "stream",
     "text": [
      "3時間20分\n"
     ]
    }
   ],
   "source": [
    "## This will convert 200 minutes to hours by diving by 60\n",
    "minutes = 200\n",
    "hours = minutes // 60\n",
    "remaining_minutes = minutes % 60\n",
    "\n",
    "print(f\"{hours}時間{remaining_minutes}分\")"
   ]
  },
  {
   "cell_type": "markdown",
   "id": "000d9141-77f2-427e-9b40-81e37c1501a4",
   "metadata": {},
   "source": [
    "#  Author\n",
    "Hiroyuki Yatsuda"
   ]
  },
  {
   "cell_type": "code",
   "execution_count": null,
   "id": "3b6050ec-fcd8-42f9-b88b-9f7135ae7d06",
   "metadata": {},
   "outputs": [],
   "source": []
  }
 ],
 "metadata": {
  "kernelspec": {
   "display_name": "Python 3 (ipykernel)",
   "language": "python",
   "name": "python3"
  },
  "language_info": {
   "codemirror_mode": {
    "name": "ipython",
    "version": 3
   },
   "file_extension": ".py",
   "mimetype": "text/x-python",
   "name": "python",
   "nbconvert_exporter": "python",
   "pygments_lexer": "ipython3",
   "version": "3.12.9"
  }
 },
 "nbformat": 4,
 "nbformat_minor": 5
}
